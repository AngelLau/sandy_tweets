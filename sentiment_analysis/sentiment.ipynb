{
 "cells": [
  {
   "cell_type": "code",
   "execution_count": 1,
   "metadata": {},
   "outputs": [],
   "source": [
    "from vaderSentiment.vaderSentiment import SentimentIntensityAnalyzer\n",
    "import re\n",
    "import string\n",
    "import pandas as pd\n",
    "import nltk"
   ]
  },
  {
   "cell_type": "code",
   "execution_count": 10,
   "metadata": {},
   "outputs": [],
   "source": [
    "analyzer = SentimentIntensityAnalyzer()\n",
    "def sentiment_analyzer_scores(text):\n",
    "    score = analyzer.polarity_scores(text)\n",
    "    print(score)"
   ]
  },
  {
   "cell_type": "code",
   "execution_count": 5,
   "metadata": {},
   "outputs": [],
   "source": [
    "tweet = pd.read_csv('tweets.csv')"
   ]
  },
  {
   "cell_type": "code",
   "execution_count": 149,
   "metadata": {},
   "outputs": [],
   "source": [
    "def prepocess(text):\n",
    "    if 'via' in text:\n",
    "        return re.match('(.*?)via.*?\\s?(.*?)', re.sub(r\"http\\S+\", \"\", re.sub(r\"[^a-zA-Z0-9]+\", ' ', re.sub(r'\\d+', '', text.lower()).translate(str.maketrans('', '', string.punctuation)).strip()))).group(1)\n",
    "    else:\n",
    "        return re.sub(r\"http\\S+\", \"\", re.sub(r\"[^a-zA-Z0-9]+\", ' ', re.sub(r'\\d+', '', text.lower()).translate(str.maketrans('', '', string.punctuation)).strip()))"
   ]
  },
  {
   "cell_type": "code",
   "execution_count": 21,
   "metadata": {},
   "outputs": [],
   "source": [
    "from pycorenlp import StanfordCoreNLP "
   ]
  },
  {
   "cell_type": "code",
   "execution_count": 22,
   "metadata": {},
   "outputs": [],
   "source": [
    "nlp = StanfordCoreNLP('http://localhost:9000')"
   ]
  },
  {
   "cell_type": "code",
   "execution_count": 31,
   "metadata": {},
   "outputs": [],
   "source": [
    "# def get_sentiment(text):\n",
    "#     res = nlp.annotate(text,\n",
    "#                        properties={'annotators':'sentiment',\n",
    "#             'outputFormat': 'json',\n",
    "#             'timeout': 1000,\n",
    "# })\n",
    "#     print(text)\n",
    "#     print('Sentiment:', res['sentences'][0]['sentiment'])\n",
    "#     print('Sentiment score:', res['sentences'][0]['sentimentValue'])\n",
    "#     print('Sentiment distribution (0-v. negative, 5-v.positive:', res['sentences'][0]['sentimentDistribution'])"
   ]
  },
  {
   "cell_type": "code",
   "execution_count": 145,
   "metadata": {},
   "outputs": [],
   "source": [
    "def get_sentiment(text):\n",
    "    res = nlp.annotate(text,\n",
    "                       properties={'annotators':'sentiment',\n",
    "            'outputFormat': 'json',\n",
    "            'timeout': 1000,\n",
    "})\n",
    "    return(text,res['sentences'][0]['sentiment'],res['sentences'][0]['sentimentValue'],res['sentences'][0]['sentimentDistribution'])"
   ]
  },
  {
   "cell_type": "code",
   "execution_count": 154,
   "metadata": {},
   "outputs": [],
   "source": [
    "a = []\n",
    "for sent in tweet.tweet:\n",
    "    a.append(get_sentiment(prepocess(sent)))"
   ]
  },
  {
   "cell_type": "code",
   "execution_count": 156,
   "metadata": {},
   "outputs": [],
   "source": [
    "b = pd.DataFrame(a)"
   ]
  },
  {
   "cell_type": "code",
   "execution_count": 157,
   "metadata": {},
   "outputs": [
    {
     "data": {
      "text/html": [
       "<div>\n",
       "<style scoped>\n",
       "    .dataframe tbody tr th:only-of-type {\n",
       "        vertical-align: middle;\n",
       "    }\n",
       "\n",
       "    .dataframe tbody tr th {\n",
       "        vertical-align: top;\n",
       "    }\n",
       "\n",
       "    .dataframe thead th {\n",
       "        text-align: right;\n",
       "    }\n",
       "</style>\n",
       "<table border=\"1\" class=\"dataframe\">\n",
       "  <thead>\n",
       "    <tr style=\"text-align: right;\">\n",
       "      <th></th>\n",
       "      <th>0</th>\n",
       "      <th>1</th>\n",
       "      <th>2</th>\n",
       "      <th>3</th>\n",
       "    </tr>\n",
       "  </thead>\n",
       "  <tbody>\n",
       "    <tr>\n",
       "      <th>0</th>\n",
       "      <td>tsearby hurricane sandy blows up car  check o...</td>\n",
       "      <td>Negative</td>\n",
       "      <td>1</td>\n",
       "      <td>[0.09622443529724, 0.59071465495599, 0.2536024...</td>\n",
       "    </tr>\n",
       "    <tr>\n",
       "      <th>1</th>\n",
       "      <td>east coast braces for b storm as hurricane san...</td>\n",
       "      <td>Negative</td>\n",
       "      <td>1</td>\n",
       "      <td>[0.08524577521647, 0.65882100631568, 0.2236787...</td>\n",
       "    </tr>\n",
       "    <tr>\n",
       "      <th>2</th>\n",
       "      <td>hurricane sandy deaths storm was cruel to new ...</td>\n",
       "      <td>Negative</td>\n",
       "      <td>1</td>\n",
       "      <td>[0.10575421473174, 0.56868428783291, 0.2967027...</td>\n",
       "    </tr>\n",
       "    <tr>\n",
       "      <th>3</th>\n",
       "      <td>outer banks begins clean up after hurricane sa...</td>\n",
       "      <td>Neutral</td>\n",
       "      <td>2</td>\n",
       "      <td>[0.03949360792491, 0.28610957251427, 0.3991771...</td>\n",
       "    </tr>\n",
       "    <tr>\n",
       "      <th>4</th>\n",
       "      <td>mitt romney refuses to talk about fema after h...</td>\n",
       "      <td>Negative</td>\n",
       "      <td>1</td>\n",
       "      <td>[0.10489154985171, 0.54525896644645, 0.2463763...</td>\n",
       "    </tr>\n",
       "  </tbody>\n",
       "</table>\n",
       "</div>"
      ],
      "text/plain": [
       "                                                   0         1  2  \\\n",
       "0   tsearby hurricane sandy blows up car  check o...  Negative  1   \n",
       "1  east coast braces for b storm as hurricane san...  Negative  1   \n",
       "2  hurricane sandy deaths storm was cruel to new ...  Negative  1   \n",
       "3  outer banks begins clean up after hurricane sa...   Neutral  2   \n",
       "4  mitt romney refuses to talk about fema after h...  Negative  1   \n",
       "\n",
       "                                                   3  \n",
       "0  [0.09622443529724, 0.59071465495599, 0.2536024...  \n",
       "1  [0.08524577521647, 0.65882100631568, 0.2236787...  \n",
       "2  [0.10575421473174, 0.56868428783291, 0.2967027...  \n",
       "3  [0.03949360792491, 0.28610957251427, 0.3991771...  \n",
       "4  [0.10489154985171, 0.54525896644645, 0.2463763...  "
      ]
     },
     "execution_count": 157,
     "metadata": {},
     "output_type": "execute_result"
    }
   ],
   "source": [
    "b.head()"
   ]
  }
 ],
 "metadata": {
  "kernelspec": {
   "display_name": "Python 3",
   "language": "python",
   "name": "python3"
  },
  "language_info": {
   "codemirror_mode": {
    "name": "ipython",
    "version": 3
   },
   "file_extension": ".py",
   "mimetype": "text/x-python",
   "name": "python",
   "nbconvert_exporter": "python",
   "pygments_lexer": "ipython3",
   "version": "3.7.1"
  }
 },
 "nbformat": 4,
 "nbformat_minor": 2
}
